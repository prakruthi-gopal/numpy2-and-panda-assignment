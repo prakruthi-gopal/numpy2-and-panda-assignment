{
 "cells": [
  {
   "cell_type": "code",
   "execution_count": 84,
   "metadata": {},
   "outputs": [
    {
     "data": {
      "text/plain": [
       "array([  5.        ,   4.66666667,   5.66666667,   6.66666667,\n",
       "         9.66666667,  28.66666667,  49.33333333,  72.66666667,\n",
       "        84.        ,  93.33333333, 116.33333333])"
      ]
     },
     "execution_count": 84,
     "metadata": {},
     "output_type": "execute_result"
    }
   ],
   "source": [
    "\n",
    "#task 1, Q1\n",
    "\n",
    "def moving_avg(lst,n):\n",
    "    x = np.ones(n) / n\n",
    "    return np.convolve(lst,x,mode='valid')\n",
    "l= [3,5,7,2,8,10,11,65,72,81,99,100,150]\n",
    "moving_avg(l,3)"
   ]
  },
  {
   "cell_type": "code",
   "execution_count": 85,
   "metadata": {
    "scrolled": true
   },
   "outputs": [
    {
     "data": {
      "text/html": [
       "<div>\n",
       "<style scoped>\n",
       "    .dataframe tbody tr th:only-of-type {\n",
       "        vertical-align: middle;\n",
       "    }\n",
       "\n",
       "    .dataframe tbody tr th {\n",
       "        vertical-align: top;\n",
       "    }\n",
       "\n",
       "    .dataframe thead th {\n",
       "        text-align: right;\n",
       "    }\n",
       "</style>\n",
       "<table border=\"1\" class=\"dataframe\">\n",
       "  <thead>\n",
       "    <tr style=\"text-align: right;\">\n",
       "      <th></th>\n",
       "      <th>X</th>\n",
       "      <th>y</th>\n",
       "    </tr>\n",
       "  </thead>\n",
       "  <tbody>\n",
       "    <tr>\n",
       "      <th>0</th>\n",
       "      <td>7</td>\n",
       "      <td>1</td>\n",
       "    </tr>\n",
       "    <tr>\n",
       "      <th>1</th>\n",
       "      <td>2</td>\n",
       "      <td>2</td>\n",
       "    </tr>\n",
       "    <tr>\n",
       "      <th>2</th>\n",
       "      <td>0</td>\n",
       "      <td>0</td>\n",
       "    </tr>\n",
       "    <tr>\n",
       "      <th>3</th>\n",
       "      <td>3</td>\n",
       "      <td>1</td>\n",
       "    </tr>\n",
       "    <tr>\n",
       "      <th>4</th>\n",
       "      <td>4</td>\n",
       "      <td>2</td>\n",
       "    </tr>\n",
       "    <tr>\n",
       "      <th>5</th>\n",
       "      <td>2</td>\n",
       "      <td>3</td>\n",
       "    </tr>\n",
       "    <tr>\n",
       "      <th>6</th>\n",
       "      <td>5</td>\n",
       "      <td>4</td>\n",
       "    </tr>\n",
       "    <tr>\n",
       "      <th>7</th>\n",
       "      <td>0</td>\n",
       "      <td>0</td>\n",
       "    </tr>\n",
       "    <tr>\n",
       "      <th>8</th>\n",
       "      <td>3</td>\n",
       "      <td>1</td>\n",
       "    </tr>\n",
       "    <tr>\n",
       "      <th>9</th>\n",
       "      <td>4</td>\n",
       "      <td>2</td>\n",
       "    </tr>\n",
       "  </tbody>\n",
       "</table>\n",
       "</div>"
      ],
      "text/plain": [
       "   X  y\n",
       "0  7  1\n",
       "1  2  2\n",
       "2  0  0\n",
       "3  3  1\n",
       "4  4  2\n",
       "5  2  3\n",
       "6  5  4\n",
       "7  0  0\n",
       "8  3  1\n",
       "9  4  2"
      ]
     },
     "execution_count": 85,
     "metadata": {},
     "output_type": "execute_result"
    }
   ],
   "source": [
    "#task 2, q1\n",
    "import pandas as pd\n",
    "import numpy as np\n",
    "df = pd.DataFrame({'X': [7, 2, 0, 3, 4, 2, 5, 0, 3, 4]})\n",
    "x=np.array(df.values).tolist()\n",
    "num = 0\n",
    "l1 = []\n",
    "for i in x:\n",
    "    if i[0] != 0:\n",
    "        num += 1\n",
    "    else:\n",
    "        num = 0\n",
    "    l1.append(num)\n",
    "y = pd.Series(l1)\n",
    "df['y']= y.values\n",
    "df\n",
    "    \n"
   ]
  },
  {
   "cell_type": "code",
   "execution_count": null,
   "metadata": {},
   "outputs": [],
   "source": []
  },
  {
   "cell_type": "code",
   "execution_count": 78,
   "metadata": {},
   "outputs": [
    {
     "name": "stderr",
     "output_type": "stream",
     "text": [
      "C:\\Users\\bharath\\Anaconda3\\lib\\site-packages\\ipykernel_launcher.py:8: FutureWarning: how in .resample() is deprecated\n",
      "the new syntax is .resample(...).last()\n",
      "  \n"
     ]
    },
    {
     "data": {
      "text/plain": [
       "2015-01-01     32\n",
       "2015-01-02    235\n",
       "2015-01-05    461\n",
       "2015-01-06    417\n",
       "2015-01-07     20\n",
       "2015-01-08    489\n",
       "2015-01-09     50\n",
       "2015-01-12    110\n",
       "2015-01-13    423\n",
       "2015-01-14    248\n",
       "2015-01-15    451\n",
       "2015-01-16    355\n",
       "2015-01-19    370\n",
       "2015-01-20    449\n",
       "2015-01-21    345\n",
       "2015-01-22    325\n",
       "2015-01-23    370\n",
       "2015-01-26    346\n",
       "2015-01-27     56\n",
       "2015-01-28    330\n",
       "2015-01-29    406\n",
       "2015-01-30    140\n",
       "2015-02-02    441\n",
       "2015-02-03    283\n",
       "2015-02-04    225\n",
       "2015-02-05    342\n",
       "2015-02-06    147\n",
       "2015-02-09    202\n",
       "2015-02-10    110\n",
       "2015-02-11    293\n",
       "             ... \n",
       "2015-11-20    138\n",
       "2015-11-23    281\n",
       "2015-11-24    303\n",
       "2015-11-25     42\n",
       "2015-11-26    436\n",
       "2015-11-27    465\n",
       "2015-11-30    154\n",
       "2015-12-01    396\n",
       "2015-12-02     23\n",
       "2015-12-03    315\n",
       "2015-12-04     88\n",
       "2015-12-07    326\n",
       "2015-12-08    436\n",
       "2015-12-09    183\n",
       "2015-12-10    356\n",
       "2015-12-11    275\n",
       "2015-12-14    349\n",
       "2015-12-15    457\n",
       "2015-12-16    246\n",
       "2015-12-17    133\n",
       "2015-12-18    158\n",
       "2015-12-21     72\n",
       "2015-12-22     71\n",
       "2015-12-23    218\n",
       "2015-12-24     80\n",
       "2015-12-25    193\n",
       "2015-12-28      3\n",
       "2015-12-29    311\n",
       "2015-12-30    216\n",
       "2015-12-31    349\n",
       "Freq: B, Length: 261, dtype: int32"
      ]
     },
     "execution_count": 78,
     "metadata": {},
     "output_type": "execute_result"
    }
   ],
   "source": [
    "\n",
    "#task 2, q2\n",
    "import pandas as pd\n",
    "import numpy as np\n",
    "from numpy.random import randint as ri\n",
    "\n",
    "dtidx=pd.date_range('2015-01-01', '2015-12-31')\n",
    "rand = np.array(ri(1,500,365))\n",
    "s = pd.Series(rand,dtidx)\n",
    "x=s.resample('B',how='last')\n",
    "x\n",
    "\n",
    "\n",
    "\n",
    "\n"
   ]
  },
  {
   "cell_type": "code",
   "execution_count": 80,
   "metadata": {},
   "outputs": [
    {
     "data": {
      "text/plain": [
       "2015-01-07    1865\n",
       "2015-01-14    1838\n",
       "2015-01-21    2540\n",
       "2015-01-28    1883\n",
       "2015-02-04    2114\n",
       "2015-02-11    1792\n",
       "2015-02-18    2160\n",
       "2015-02-25    2876\n",
       "2015-03-04    2061\n",
       "2015-03-11    1869\n",
       "2015-03-18    1316\n",
       "2015-03-25     995\n",
       "2015-04-01    2358\n",
       "2015-04-08     988\n",
       "2015-04-15    1900\n",
       "2015-04-22    2212\n",
       "2015-04-29    1729\n",
       "2015-05-06    1051\n",
       "2015-05-13    1481\n",
       "2015-05-20    2190\n",
       "2015-05-27    1855\n",
       "2015-06-03    1293\n",
       "2015-06-10    2152\n",
       "2015-06-17    1723\n",
       "2015-06-24    1081\n",
       "2015-07-01    1263\n",
       "2015-07-08    1783\n",
       "2015-07-15    2703\n",
       "2015-07-22    1576\n",
       "2015-07-29    1545\n",
       "2015-08-05    1579\n",
       "2015-08-12    1541\n",
       "2015-08-19    1111\n",
       "2015-08-26    1355\n",
       "2015-09-02    2257\n",
       "2015-09-09    1366\n",
       "2015-09-16    1409\n",
       "2015-09-23    2209\n",
       "2015-09-30    2355\n",
       "2015-10-07    1244\n",
       "2015-10-14    1935\n",
       "2015-10-21    2068\n",
       "2015-10-28    2228\n",
       "2015-11-04    1656\n",
       "2015-11-11    2047\n",
       "2015-11-18    2409\n",
       "2015-11-25    1094\n",
       "2015-12-02    2161\n",
       "2015-12-09    1820\n",
       "2015-12-16    2169\n",
       "2015-12-23    1459\n",
       "2015-12-30    1517\n",
       "2016-01-06     349\n",
       "Freq: W-WED, dtype: int32"
      ]
     },
     "execution_count": 80,
     "metadata": {},
     "output_type": "execute_result"
    }
   ],
   "source": [
    "#task 2, q3\n",
    "s.resample('w-wed').sum()"
   ]
  },
  {
   "cell_type": "code",
   "execution_count": 82,
   "metadata": {},
   "outputs": [
    {
     "data": {
      "text/plain": [
       "2015-01-31    295.193548\n",
       "2015-02-28    307.142857\n",
       "2015-03-31    239.483871\n",
       "2015-04-30    245.466667\n",
       "2015-05-31    236.290323\n",
       "2015-06-30    222.166667\n",
       "2015-07-31    263.258065\n",
       "2015-08-31    222.612903\n",
       "2015-09-30    259.433333\n",
       "2015-10-31    267.161290\n",
       "2015-11-30    271.366667\n",
       "2015-12-31    249.451613\n",
       "Freq: M, dtype: float64"
      ]
     },
     "execution_count": 82,
     "metadata": {},
     "output_type": "execute_result"
    }
   ],
   "source": [
    "#task 2, q4\n",
    "s.resample('1m').mean()"
   ]
  },
  {
   "cell_type": "code",
   "execution_count": 83,
   "metadata": {},
   "outputs": [
    {
     "data": {
      "text/plain": [
       "2015-01-31    496\n",
       "2015-05-31    496\n",
       "2015-09-30    494\n",
       "2016-01-31    497\n",
       "dtype: int32"
      ]
     },
     "execution_count": 83,
     "metadata": {},
     "output_type": "execute_result"
    }
   ],
   "source": [
    "#task 2, q5\n",
    "s.resample('4m').max()"
   ]
  },
  {
   "cell_type": "code",
   "execution_count": null,
   "metadata": {},
   "outputs": [],
   "source": []
  }
 ],
 "metadata": {
  "kernelspec": {
   "display_name": "Python 3",
   "language": "python",
   "name": "python3"
  },
  "language_info": {
   "codemirror_mode": {
    "name": "ipython",
    "version": 3
   },
   "file_extension": ".py",
   "mimetype": "text/x-python",
   "name": "python",
   "nbconvert_exporter": "python",
   "pygments_lexer": "ipython3",
   "version": "3.6.5"
  }
 },
 "nbformat": 4,
 "nbformat_minor": 2
}
